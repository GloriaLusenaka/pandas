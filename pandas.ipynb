{
  "nbformat": 4,
  "nbformat_minor": 0,
  "metadata": {
    "colab": {
      "provenance": [],
      "authorship_tag": "ABX9TyMF1//bj7yWKsWEEmA6vuDv",
      "include_colab_link": true
    },
    "kernelspec": {
      "name": "python3",
      "display_name": "Python 3"
    },
    "language_info": {
      "name": "python"
    }
  },
  "cells": [
    {
      "cell_type": "markdown",
      "metadata": {
        "id": "view-in-github",
        "colab_type": "text"
      },
      "source": [
        "<a href=\"https://colab.research.google.com/github/GloriaLusenaka/pandas/blob/main/pandas.ipynb\" target=\"_parent\"><img src=\"https://colab.research.google.com/assets/colab-badge.svg\" alt=\"Open In Colab\"/></a>"
      ]
    },
    {
      "cell_type": "code",
      "execution_count": null,
      "metadata": {
        "colab": {
          "base_uri": "https://localhost:8080/"
        },
        "id": "wn0sl94NAtWT",
        "outputId": "224c22d3-29a1-421e-f6d2-073e8cb7ebdb"
      },
      "outputs": [
        {
          "output_type": "stream",
          "name": "stdout",
          "text": [
            "Requirement already satisfied: pandas in /usr/local/lib/python3.12/dist-packages (2.2.2)\n",
            "Requirement already satisfied: numpy>=1.26.0 in /usr/local/lib/python3.12/dist-packages (from pandas) (2.0.2)\n",
            "Requirement already satisfied: python-dateutil>=2.8.2 in /usr/local/lib/python3.12/dist-packages (from pandas) (2.9.0.post0)\n",
            "Requirement already satisfied: pytz>=2020.1 in /usr/local/lib/python3.12/dist-packages (from pandas) (2025.2)\n",
            "Requirement already satisfied: tzdata>=2022.7 in /usr/local/lib/python3.12/dist-packages (from pandas) (2025.2)\n",
            "Requirement already satisfied: six>=1.5 in /usr/local/lib/python3.12/dist-packages (from python-dateutil>=2.8.2->pandas) (1.17.0)\n"
          ]
        }
      ],
      "source": [
        "pip install pandas\n"
      ]
    },
    {
      "cell_type": "code",
      "source": [
        "import pandas as pd\n",
        "print(pd.__version__)"
      ],
      "metadata": {
        "colab": {
          "base_uri": "https://localhost:8080/"
        },
        "id": "b8B7h161Drcj",
        "outputId": "1a14748e-ff87-4ee9-e395-d160f24a5102"
      },
      "execution_count": null,
      "outputs": [
        {
          "output_type": "stream",
          "name": "stdout",
          "text": [
            "2.2.2\n"
          ]
        }
      ]
    },
    {
      "cell_type": "code",
      "source": [
        "data = [100,200,300]\n",
        "series = pd.Series(data)\n",
        "print(series)\n",
        "\n",
        "#To add a label to my indexing\n",
        "series = pd.Series(data, index=[\"good\",\"better\",\"best\"])\n",
        "print(series)\n",
        "\n",
        "#to locate a value we use loc\n",
        "print(series.loc[\"good\"])\n",
        "\n",
        "#to update a value\n",
        "series.loc[\"good\"]=150\n",
        "print(series)\n",
        "\n",
        "#to locate a value using integer position\n",
        "print(series.iloc[1])"
      ],
      "metadata": {
        "colab": {
          "base_uri": "https://localhost:8080/"
        },
        "id": "RYuO0fdxD21F",
        "outputId": "b48c6626-f8c0-4350-8075-834ddd752d9d"
      },
      "execution_count": null,
      "outputs": [
        {
          "output_type": "stream",
          "name": "stdout",
          "text": [
            "0    100\n",
            "1    200\n",
            "2    300\n",
            "dtype: int64\n",
            "good      100\n",
            "better    200\n",
            "best      300\n",
            "dtype: int64\n",
            "100\n",
            "good      150\n",
            "better    200\n",
            "best      300\n",
            "dtype: int64\n",
            "200\n"
          ]
        }
      ]
    },
    {
      "cell_type": "code",
      "source": [
        "#flitering in pandas\n",
        "data = [120,140,160,180,200,220,240]\n",
        "series = pd.Series(data, index=[\"a\",\"b\",\"c\",\"d\",\"e\",\"f\",\"g\"])\n",
        "print(series)\n",
        "\n",
        "#values greater than 200\n",
        "print(series[series>200])"
      ],
      "metadata": {
        "colab": {
          "base_uri": "https://localhost:8080/"
        },
        "id": "v3BOOw8xFV6F",
        "outputId": "9690dd2a-b262-4c43-e804-ccc3e8bb5c19"
      },
      "execution_count": null,
      "outputs": [
        {
          "output_type": "stream",
          "name": "stdout",
          "text": [
            "a    120\n",
            "b    140\n",
            "c    160\n",
            "d    180\n",
            "e    200\n",
            "f    220\n",
            "g    240\n",
            "dtype: int64\n",
            "f    220\n",
            "g    240\n",
            "dtype: int64\n"
          ]
        }
      ]
    },
    {
      "cell_type": "code",
      "source": [
        "#calories i've had in a week\n",
        "calories={\"Monday\":1200,\"Tuesday\":2000,\"Wednesday\":980,\"Thursday\":1600,\"Friday\":2200}\n",
        "series= pd.Series(calories)\n",
        "print(series)\n",
        "\n",
        "#accessing number of calories on thurday\n",
        "print(series[\"Thursday\"])\n",
        "\n",
        "#Added a cookie on friday\n",
        "series.loc[\"Friday\"]+= 200\n",
        "print(series)"
      ],
      "metadata": {
        "colab": {
          "base_uri": "https://localhost:8080/"
        },
        "id": "hnoq4b0ZHKqd",
        "outputId": "f86f89f8-00d6-4149-ab83-08c2b32ad72d"
      },
      "execution_count": null,
      "outputs": [
        {
          "output_type": "stream",
          "name": "stdout",
          "text": [
            "Monday       1200\n",
            "Tuesday      2000\n",
            "Wednesday     980\n",
            "Thursday     1600\n",
            "Friday       2200\n",
            "dtype: int64\n",
            "1600\n",
            "Monday       1200\n",
            "Tuesday      2000\n",
            "Wednesday     980\n",
            "Thursday     1600\n",
            "Friday       2400\n",
            "dtype: int64\n"
          ]
        }
      ]
    },
    {
      "cell_type": "code",
      "source": [],
      "metadata": {
        "id": "bIRYcO7bxoQX"
      },
      "execution_count": null,
      "outputs": []
    }
  ]
}